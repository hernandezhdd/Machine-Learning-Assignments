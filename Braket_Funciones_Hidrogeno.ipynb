{
  "nbformat": 4,
  "nbformat_minor": 0,
  "metadata": {
    "colab": {
      "name": "Braket_Funciones_Hidrogeno.ipynb",
      "provenance": [],
      "authorship_tag": "ABX9TyMpnuE/85F53dj29iMoniEP",
      "include_colab_link": true
    },
    "kernelspec": {
      "name": "python3",
      "display_name": "Python 3"
    },
    "language_info": {
      "name": "python"
    }
  },
  "cells": [
    {
      "cell_type": "markdown",
      "metadata": {
        "id": "view-in-github",
        "colab_type": "text"
      },
      "source": [
        "<a href=\"https://colab.research.google.com/github/hernandezhdd/TrabajosMachineLearning/blob/master/Braket_Funciones_Hidrogeno.ipynb\" target=\"_parent\"><img src=\"https://colab.research.google.com/assets/colab-badge.svg\" alt=\"Open In Colab\"/></a>"
      ]
    },
    {
      "cell_type": "code",
      "metadata": {
        "id": "yFmke43RZlmm"
      },
      "source": [
        "from __future__ import division\n",
        "from sympy import *\n",
        "x, y, z, t = symbols('x y z t')\n",
        "k, m, n = symbols('k m n', integer=True)\n",
        "f, g, h = symbols('f g h', cls=Function)"
      ],
      "execution_count": null,
      "outputs": []
    },
    {
      "cell_type": "code",
      "metadata": {
        "id": "LZe-3w3fZ9sh",
        "colab": {
          "base_uri": "https://localhost:8080/"
        },
        "outputId": "fdf7e1d0-76f1-421c-b684-9ce177195d62"
      },
      "source": [
        "import numpy as np\n",
        "\n",
        "from sympy.physics.hydrogen import Psi_nlm\n",
        "from sympy.physics.quantum.dagger import Dagger\n",
        "from sympy import Symbol\n",
        "\n",
        "from sympy.physics.hydrogen import E_nl\n",
        "\n",
        "r=Symbol(\"r\", real=True, positive=True)\n",
        "phi=Symbol(\"phi\", real=True)\n",
        "theta=Symbol(\"theta\", real=True)\n",
        "#Z=Symbol(\"Z\", positive=True, integer=True, nonzero=True)\n",
        "\n",
        "Z=1\n",
        "nnn=4\n",
        "qq=0\n",
        "resultados=np.zeros(1)\n",
        "for nn in range(2,nnn+1):\n",
        "  for ll in range(0,nn):\n",
        "    for mm in range(-ll,ll+1):\n",
        "      bra = Dagger(Psi_nlm(1,0,0,r,phi,theta,Z))\n",
        "      ket = Psi_nlm(nn,ll,mm,r,phi,theta,Z)\n",
        "      c = integrate(bra*ket*r*cos(theta), (r,0,oo))\n",
        "      d = integrate(c, (theta,0,pi))\n",
        "      e = integrate(d, (phi,0,2*pi))\n",
        "      f = e**2 / ( E_nl(1, 1) - E_nl(nn, 1) ) \n",
        "\n",
        "      print('<1,0,0 | '+str(nn)+','+str(ll)+','+str(mm)+'>',f)\n",
        "      resultados = np.append(resultados,f)\n",
        "      qq = qq+1\n",
        "      #resultados = {'<1,0,0 | '+nn+','+ll,',0>':}"
      ],
      "execution_count": 123,
      "outputs": [
        {
          "output_type": "stream",
          "text": [
            "<1,0,0 | 2,0,0> 0\n",
            "<1,0,0 | 2,1,-1> 0\n",
            "<1,0,0 | 2,1,0> -64*pi**2/2187\n",
            "<1,0,0 | 2,1,1> 0\n",
            "<1,0,0 | 3,0,0> 0\n",
            "<1,0,0 | 3,1,-1> 0\n",
            "<1,0,0 | 3,1,0> -225*pi**2/32768\n",
            "<1,0,0 | 3,1,1> 0\n",
            "<1,0,0 | 3,2,-2> 0\n",
            "<1,0,0 | 3,2,-1> 0\n",
            "<1,0,0 | 3,2,0> 0\n",
            "<1,0,0 | 3,2,1> 0\n",
            "<1,0,0 | 3,2,2> 0\n",
            "<1,0,0 | 4,0,0> 0\n",
            "<1,0,0 | 4,1,-1> 0\n",
            "<1,0,0 | 4,1,0> -1968128*pi**2/732421875\n",
            "<1,0,0 | 4,1,1> 0\n",
            "<1,0,0 | 4,2,-2> 0\n",
            "<1,0,0 | 4,2,-1> 0\n",
            "<1,0,0 | 4,2,0> 0\n",
            "<1,0,0 | 4,2,1> 0\n",
            "<1,0,0 | 4,2,2> 0\n",
            "<1,0,0 | 4,3,-3> 0\n",
            "<1,0,0 | 4,3,-2> 0\n",
            "<1,0,0 | 4,3,-1> 0\n",
            "<1,0,0 | 4,3,0> -384*pi**2/244140625\n",
            "<1,0,0 | 4,3,1> 0\n",
            "<1,0,0 | 4,3,2> 0\n",
            "<1,0,0 | 4,3,3> 0\n"
          ],
          "name": "stdout"
        }
      ]
    },
    {
      "cell_type": "code",
      "metadata": {
        "colab": {
          "base_uri": "https://localhost:8080/"
        },
        "id": "Lqy8ysqSw-nT",
        "outputId": "5a2cc6d8-4904-4a43-856c-8bd79a3ecd5b"
      },
      "source": [
        "resultados"
      ],
      "execution_count": 124,
      "outputs": [
        {
          "output_type": "execute_result",
          "data": {
            "text/plain": [
              "array([0.0, 0, 0, -64*pi**2/2187, 0, 0, 0, -225*pi**2/32768, 0, 0, 0, 0,\n",
              "       0, 0, 0, 0, -1968128*pi**2/732421875, 0, 0, 0, 0, 0, 0, 0, 0, 0,\n",
              "       -384*pi**2/244140625, 0, 0, 0], dtype=object)"
            ]
          },
          "metadata": {
            "tags": []
          },
          "execution_count": 124
        }
      ]
    },
    {
      "cell_type": "code",
      "metadata": {
        "colab": {
          "base_uri": "https://localhost:8080/",
          "height": 38
        },
        "id": "lK-TxVOwt4vy",
        "outputId": "db129cf1-b208-465f-dd05-ef13396636c7"
      },
      "source": [
        "np.sum(resultados)*1.0"
      ],
      "execution_count": 125,
      "outputs": [
        {
          "output_type": "execute_result",
          "data": {
            "text/latex": "$\\displaystyle - 0.0388190104377592 \\pi^{2}$",
            "text/plain": [
              "-0.0388190104377592*pi**2"
            ]
          },
          "metadata": {
            "tags": []
          },
          "execution_count": 125
        }
      ]
    },
    {
      "cell_type": "code",
      "metadata": {
        "colab": {
          "base_uri": "https://localhost:8080/"
        },
        "id": "pkwIOx3f-up-",
        "outputId": "8e611486-9bed-404c-c440-7b322d14ac49"
      },
      "source": [
        "qq"
      ],
      "execution_count": 126,
      "outputs": [
        {
          "output_type": "execute_result",
          "data": {
            "text/plain": [
              "29"
            ]
          },
          "metadata": {
            "tags": []
          },
          "execution_count": 126
        }
      ]
    }
  ]
}