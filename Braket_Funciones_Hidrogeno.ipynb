{
  "nbformat": 4,
  "nbformat_minor": 0,
  "metadata": {
    "colab": {
      "name": "Braket_Funciones_Hidrogeno.ipynb",
      "provenance": [],
      "authorship_tag": "ABX9TyPmaHteNEdtV51LRm8Aonzf",
      "include_colab_link": true
    },
    "kernelspec": {
      "name": "python3",
      "display_name": "Python 3"
    },
    "language_info": {
      "name": "python"
    }
  },
  "cells": [
    {
      "cell_type": "markdown",
      "metadata": {
        "id": "view-in-github",
        "colab_type": "text"
      },
      "source": [
        "<a href=\"https://colab.research.google.com/github/hernandezhdd/TrabajosMachineLearning/blob/master/Braket_Funciones_Hidrogeno.ipynb\" target=\"_parent\"><img src=\"https://colab.research.google.com/assets/colab-badge.svg\" alt=\"Open In Colab\"/></a>"
      ]
    },
    {
      "cell_type": "code",
      "metadata": {
        "id": "yFmke43RZlmm"
      },
      "source": [
        "from __future__ import division\n",
        "from sympy import *"
      ],
      "execution_count": null,
      "outputs": []
    },
    {
      "cell_type": "code",
      "metadata": {
        "id": "LZe-3w3fZ9sh",
        "colab": {
          "base_uri": "https://localhost:8080/"
        },
        "outputId": "e81ef5e6-8da4-4538-ab0b-a5d70471ebd5"
      },
      "source": [
        "import numpy as np\n",
        "\n",
        "from sympy.physics.hydrogen import Psi_nlm\n",
        "from sympy.physics.quantum.dagger import Dagger\n",
        "from sympy import Symbol\n",
        "from sympy import integrate, conjugate, pi, oo, sin\n",
        "from sympy.physics.hydrogen import E_nl\n",
        "\n",
        "r=Symbol(\"r\", real=True, positive=True)\n",
        "phi=Symbol(\"phi\", real=True)\n",
        "theta=Symbol(\"theta\", real=True)\n",
        "#Z=Symbol(\"Z\", positive=True, integer=True, nonzero=True)\n",
        "\n",
        "Z=1\n",
        "nnn=5\n",
        "qq=0\n",
        "resultados=np.zeros(1)\n",
        "for nn in range(2,nnn+1):\n",
        "  for ll in range(0,nn):\n",
        "    for mm in range(-ll,ll+1):\n",
        "\n",
        "      # bra_100 = Dagger(Psi_nlm(1,0,0,r,phi,theta,Z))\n",
        "      # ket_nlm = Psi_nlm(nn,ll,mm,r,phi,theta,Z)\n",
        "      # c = integrate(bra*ket*r*cos(theta), (r,0,oo))\n",
        "      # d = integrate(c, (theta,0,pi))\n",
        "      # e = integrate(d, (phi,0,2*pi))\n",
        "      ket_100 = Psi_nlm(1,0,0,r,phi,theta,Z)\n",
        "      bra_nlm = conjugate( Psi_nlm(nn,ll,mm,r,phi,theta,Z) )\n",
        "      jacobi=r**2*sin(theta)\n",
        "      e = integrate(bra_nlm*r*cos(theta)*ket_100*jacobi, (r,0,oo), (phi,0,2*pi), (theta,0,pi))\n",
        "\n",
        "      f = e**2 / ( E_nl(1, 1) - E_nl(nn, 1) ) \n",
        "\n",
        "      print('<1,0,0 | '+str(nn)+','+str(ll)+','+str(mm)+'>',f,'| E_nl =', E_nl(nn, 1))\n",
        "      resultados = np.append(resultados,f)\n",
        "      qq = qq+1\n",
        "      #resultados = {'<1,0,0 | '+nn+','+ll,',0>':}"
      ],
      "execution_count": null,
      "outputs": [
        {
          "output_type": "stream",
          "text": [
            "<1,0,0 | 2,0,0> 0 | E_nl = -1/8\n",
            "<1,0,0 | 2,1,-1> 0 | E_nl = -1/8\n",
            "<1,0,0 | 2,1,0> -262144/177147 | E_nl = -1/8\n",
            "<1,0,0 | 2,1,1> 0 | E_nl = -1/8\n",
            "<1,0,0 | 3,0,0> 0 | E_nl = -1/18\n",
            "<1,0,0 | 3,1,-1> 0 | E_nl = -1/18\n",
            "<1,0,0 | 3,1,0> -6561/32768 | E_nl = -1/18\n",
            "<1,0,0 | 3,1,1> 0 | E_nl = -1/18\n",
            "<1,0,0 | 3,2,-2> 0 | E_nl = -1/18\n",
            "<1,0,0 | 3,2,-1> 0 | E_nl = -1/18\n",
            "<1,0,0 | 3,2,0> 0 | E_nl = -1/18\n",
            "<1,0,0 | 3,2,1> 0 | E_nl = -1/18\n",
            "<1,0,0 | 3,2,2> 0 | E_nl = -1/18\n",
            "<1,0,0 | 4,0,0> 0 | E_nl = -1/32\n",
            "<1,0,0 | 4,1,-1> 0 | E_nl = -1/32\n",
            "<1,0,0 | 4,1,0> -402653184/6103515625 | E_nl = -1/32\n",
            "<1,0,0 | 4,1,1> 0 | E_nl = -1/32\n",
            "<1,0,0 | 4,2,-2> 0 | E_nl = -1/32\n",
            "<1,0,0 | 4,2,-1> 0 | E_nl = -1/32\n",
            "<1,0,0 | 4,2,0> 0 | E_nl = -1/32\n",
            "<1,0,0 | 4,2,1> 0 | E_nl = -1/32\n",
            "<1,0,0 | 4,2,2> 0 | E_nl = -1/32\n",
            "<1,0,0 | 4,3,-3> 0 | E_nl = -1/32\n",
            "<1,0,0 | 4,3,-2> 0 | E_nl = -1/32\n",
            "<1,0,0 | 4,3,-1> 0 | E_nl = -1/32\n",
            "<1,0,0 | 4,3,0> 0 | E_nl = -1/32\n",
            "<1,0,0 | 4,3,1> 0 | E_nl = -1/32\n",
            "<1,0,0 | 4,3,2> 0 | E_nl = -1/32\n",
            "<1,0,0 | 4,3,3> 0 | E_nl = -1/32\n",
            "<1,0,0 | 5,0,0> 0 | E_nl = -1/50\n",
            "<1,0,0 | 5,1,-1> 0 | E_nl = -1/50\n",
            "<1,0,0 | 5,1,0> -3906250/129140163 | E_nl = -1/50\n",
            "<1,0,0 | 5,1,1> 0 | E_nl = -1/50\n",
            "<1,0,0 | 5,2,-2> 0 | E_nl = -1/50\n",
            "<1,0,0 | 5,2,-1> 0 | E_nl = -1/50\n",
            "<1,0,0 | 5,2,0> 0 | E_nl = -1/50\n",
            "<1,0,0 | 5,2,1> 0 | E_nl = -1/50\n",
            "<1,0,0 | 5,2,2> 0 | E_nl = -1/50\n",
            "<1,0,0 | 5,3,-3> 0 | E_nl = -1/50\n",
            "<1,0,0 | 5,3,-2> 0 | E_nl = -1/50\n",
            "<1,0,0 | 5,3,-1> 0 | E_nl = -1/50\n",
            "<1,0,0 | 5,3,0> 0 | E_nl = -1/50\n",
            "<1,0,0 | 5,3,1> 0 | E_nl = -1/50\n",
            "<1,0,0 | 5,3,2> 0 | E_nl = -1/50\n",
            "<1,0,0 | 5,3,3> 0 | E_nl = -1/50\n",
            "<1,0,0 | 5,4,-4> 0 | E_nl = -1/50\n",
            "<1,0,0 | 5,4,-3> 0 | E_nl = -1/50\n",
            "<1,0,0 | 5,4,-2> 0 | E_nl = -1/50\n",
            "<1,0,0 | 5,4,-1> 0 | E_nl = -1/50\n",
            "<1,0,0 | 5,4,0> 0 | E_nl = -1/50\n",
            "<1,0,0 | 5,4,1> 0 | E_nl = -1/50\n",
            "<1,0,0 | 5,4,2> 0 | E_nl = -1/50\n",
            "<1,0,0 | 5,4,3> 0 | E_nl = -1/50\n",
            "<1,0,0 | 5,4,4> 0 | E_nl = -1/50\n"
          ],
          "name": "stdout"
        }
      ]
    },
    {
      "cell_type": "code",
      "metadata": {
        "colab": {
          "base_uri": "https://localhost:8080/"
        },
        "id": "sYCvi1zCEhCl",
        "outputId": "05801b6f-58b7-4ffc-8af5-824e6bac86dc"
      },
      "source": [
        "qq"
      ],
      "execution_count": null,
      "outputs": [
        {
          "output_type": "execute_result",
          "data": {
            "text/plain": [
              "54"
            ]
          },
          "metadata": {
            "tags": []
          },
          "execution_count": 34
        }
      ]
    },
    {
      "cell_type": "code",
      "metadata": {
        "colab": {
          "base_uri": "https://localhost:8080/"
        },
        "id": "Lqy8ysqSw-nT",
        "outputId": "27f7334a-3625-48b8-93e0-f9c9742d04de"
      },
      "source": [
        "resultados"
      ],
      "execution_count": null,
      "outputs": [
        {
          "output_type": "execute_result",
          "data": {
            "text/plain": [
              "array([0.0, 0, 0, -262144/177147, 0, 0, 0, -6561/32768, 0, 0, 0, 0, 0, 0,\n",
              "       0, 0, -402653184/6103515625, 0, 0, 0, 0, 0, 0, 0, 0, 0, 0, 0, 0, 0,\n",
              "       0, 0, -3906250/129140163, 0, 0, 0, 0, 0, 0, 0, 0, 0, 0, 0, 0, 0, 0,\n",
              "       0, 0, 0, 0, 0, 0, 0, 0], dtype=object)"
            ]
          },
          "metadata": {
            "tags": []
          },
          "execution_count": 35
        }
      ]
    },
    {
      "cell_type": "code",
      "metadata": {
        "colab": {
          "base_uri": "https://localhost:8080/",
          "height": 483
        },
        "id": "CvMxblYlF-ae",
        "outputId": "d6125f20-93fc-4d45-f992-7b0c0f318415"
      },
      "source": [
        "import matplotlib.pyplot as plt\n",
        "\n",
        "plt.figure(figsize=(14,8))\n",
        "plt.scatter(np.arange(len(resultados)), resultados)\n",
        "plt.show()"
      ],
      "execution_count": null,
      "outputs": [
        {
          "output_type": "display_data",
          "data": {
            "image/png": "[encoded data removed]",
            "text/plain": [
              "<Figure size 1008x576 with 1 Axes>"
            ]
          },
          "metadata": {
            "tags": [],
            "needs_background": "light"
          }
        }
      ]
    },
    {
      "cell_type": "code",
      "metadata": {
        "colab": {
          "base_uri": "https://localhost:8080/",
          "height": 37
        },
        "id": "lK-TxVOwt4vy",
        "outputId": "2f5c1776-9211-484b-a150-902afa42004f"
      },
      "source": [
        "np.sum(resultados)*1.0"
      ],
      "execution_count": null,
      "outputs": [
        {
          "output_type": "execute_result",
          "data": {
            "text/latex": "$\\displaystyle -1.77625522265279$",
            "text/plain": [
              "-1.77625522265279"
            ]
          },
          "metadata": {
            "tags": []
          },
          "execution_count": 37
        }
      ]
    }
  ]
}