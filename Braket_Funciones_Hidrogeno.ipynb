{
  "nbformat": 4,
  "nbformat_minor": 0,
  "metadata": {
    "colab": {
      "name": "Braket_Funciones_Hidrogeno.ipynb",
      "provenance": [],
      "authorship_tag": "ABX9TyP3XrdEGkwgyE8irQCa3G7u",
      "include_colab_link": true
    },
    "kernelspec": {
      "name": "python3",
      "display_name": "Python 3"
    },
    "language_info": {
      "name": "python"
    }
  },
  "cells": [
    {
      "cell_type": "markdown",
      "metadata": {
        "id": "view-in-github",
        "colab_type": "text"
      },
      "source": [
        "<a href=\"https://colab.research.google.com/github/hernandezhdd/TrabajosMachineLearning/blob/master/Braket_Funciones_Hidrogeno.ipynb\" target=\"_parent\"><img src=\"https://colab.research.google.com/assets/colab-badge.svg\" alt=\"Open In Colab\"/></a>"
      ]
    },
    {
      "cell_type": "code",
      "metadata": {
        "id": "yFmke43RZlmm"
      },
      "source": [
        "from __future__ import division\n",
        "from sympy import *"
      ],
      "execution_count": 1,
      "outputs": []
    },
    {
      "cell_type": "code",
      "metadata": {
        "id": "LZe-3w3fZ9sh",
        "colab": {
          "base_uri": "https://localhost:8080/"
        },
        "outputId": "2be03bdb-357f-4227-95ea-abfa573c1720"
      },
      "source": [
        "import numpy as np\n",
        "\n",
        "from sympy.physics.hydrogen import Psi_nlm\n",
        "from sympy.physics.quantum.dagger import Dagger\n",
        "from sympy import Symbol\n",
        "\n",
        "from sympy.physics.hydrogen import E_nl\n",
        "\n",
        "r=Symbol(\"r\", real=True, positive=True)\n",
        "phi=Symbol(\"phi\", real=True)\n",
        "theta=Symbol(\"theta\", real=True)\n",
        "#Z=Symbol(\"Z\", positive=True, integer=True, nonzero=True)\n",
        "\n",
        "Z=1\n",
        "nnn=5\n",
        "qq=0\n",
        "resultados=np.zeros(1)\n",
        "for nn in range(2,nnn+1):\n",
        "  for ll in range(0,nn):\n",
        "    for mm in range(-ll,ll+1):\n",
        "      bra = Dagger(Psi_nlm(1,0,0,r,phi,theta,Z))\n",
        "      ket = Psi_nlm(nn,ll,mm,r,phi,theta,Z)\n",
        "      c = integrate(bra*ket*r*cos(theta), (r,0,oo))\n",
        "      d = integrate(c, (theta,0,pi))\n",
        "      e = integrate(d, (phi,0,2*pi))\n",
        "      f = e**2 / ( E_nl(1, 1) - E_nl(nn, 1) ) \n",
        "\n",
        "      print('<1,0,0 | '+str(nn)+','+str(ll)+','+str(mm)+'>',f)\n",
        "      resultados = np.append(resultados,f)\n",
        "      qq = qq+1\n",
        "      #resultados = {'<1,0,0 | '+nn+','+ll,',0>':}"
      ],
      "execution_count": 2,
      "outputs": [
        {
          "output_type": "stream",
          "text": [
            "<1,0,0 | 2,0,0> 0\n",
            "<1,0,0 | 2,1,-1> 0\n",
            "<1,0,0 | 2,1,0> -64*pi**2/2187\n",
            "<1,0,0 | 2,1,1> 0\n",
            "<1,0,0 | 3,0,0> 0\n",
            "<1,0,0 | 3,1,-1> 0\n",
            "<1,0,0 | 3,1,0> -225*pi**2/32768\n",
            "<1,0,0 | 3,1,1> 0\n",
            "<1,0,0 | 3,2,-2> 0\n",
            "<1,0,0 | 3,2,-1> 0\n",
            "<1,0,0 | 3,2,0> 0\n",
            "<1,0,0 | 3,2,1> 0\n",
            "<1,0,0 | 3,2,2> 0\n",
            "<1,0,0 | 4,0,0> 0\n",
            "<1,0,0 | 4,1,-1> 0\n",
            "<1,0,0 | 4,1,0> -1968128*pi**2/732421875\n",
            "<1,0,0 | 4,1,1> 0\n",
            "<1,0,0 | 4,2,-2> 0\n",
            "<1,0,0 | 4,2,-1> 0\n",
            "<1,0,0 | 4,2,0> 0\n",
            "<1,0,0 | 4,2,1> 0\n",
            "<1,0,0 | 4,2,2> 0\n",
            "<1,0,0 | 4,3,-3> 0\n",
            "<1,0,0 | 4,3,-2> 0\n",
            "<1,0,0 | 4,3,-1> 0\n",
            "<1,0,0 | 4,3,0> -384*pi**2/244140625\n",
            "<1,0,0 | 4,3,1> 0\n",
            "<1,0,0 | 4,3,2> 0\n",
            "<1,0,0 | 4,3,3> 0\n",
            "<1,0,0 | 5,0,0> 0\n",
            "<1,0,0 | 5,1,-1> 0\n",
            "<1,0,0 | 5,1,0> -271445*pi**2/204073344\n",
            "<1,0,0 | 5,1,1> 0\n",
            "<1,0,0 | 5,2,-2> 0\n",
            "<1,0,0 | 5,2,-1> 0\n",
            "<1,0,0 | 5,2,0> 0\n",
            "<1,0,0 | 5,2,1> 0\n",
            "<1,0,0 | 5,2,2> 0\n",
            "<1,0,0 | 5,3,-3> 0\n",
            "<1,0,0 | 5,3,-2> 0\n",
            "<1,0,0 | 5,3,-1> 0\n",
            "<1,0,0 | 5,3,0> -1805*pi**2/1451188224\n",
            "<1,0,0 | 5,3,1> 0\n",
            "<1,0,0 | 5,3,2> 0\n",
            "<1,0,0 | 5,3,3> 0\n",
            "<1,0,0 | 5,4,-4> 0\n",
            "<1,0,0 | 5,4,-3> 0\n",
            "<1,0,0 | 5,4,-2> 0\n",
            "<1,0,0 | 5,4,-1> 0\n",
            "<1,0,0 | 5,4,0> 0\n",
            "<1,0,0 | 5,4,1> 0\n",
            "<1,0,0 | 5,4,2> 0\n",
            "<1,0,0 | 5,4,3> 0\n",
            "<1,0,0 | 5,4,4> 0\n"
          ],
          "name": "stdout"
        }
      ]
    },
    {
      "cell_type": "code",
      "metadata": {
        "colab": {
          "base_uri": "https://localhost:8080/"
        },
        "id": "sYCvi1zCEhCl",
        "outputId": "2af477eb-7bb6-4d18-cb61-7d29409204f1"
      },
      "source": [
        "qq"
      ],
      "execution_count": 8,
      "outputs": [
        {
          "output_type": "execute_result",
          "data": {
            "text/plain": [
              "54"
            ]
          },
          "metadata": {
            "tags": []
          },
          "execution_count": 8
        }
      ]
    },
    {
      "cell_type": "code",
      "metadata": {
        "colab": {
          "base_uri": "https://localhost:8080/"
        },
        "id": "Lqy8ysqSw-nT",
        "outputId": "8ab692c7-80b2-4df5-9b76-22da2cc87ab6"
      },
      "source": [
        "resultados"
      ],
      "execution_count": 9,
      "outputs": [
        {
          "output_type": "execute_result",
          "data": {
            "text/plain": [
              "array([0.0, 0, 0, -64*pi**2/2187, 0, 0, 0, -225*pi**2/32768, 0, 0, 0, 0,\n",
              "       0, 0, 0, 0, -1968128*pi**2/732421875, 0, 0, 0, 0, 0, 0, 0, 0, 0,\n",
              "       -384*pi**2/244140625, 0, 0, 0, 0, 0, -271445*pi**2/204073344, 0, 0,\n",
              "       0, 0, 0, 0, 0, 0, 0, -1805*pi**2/1451188224, 0, 0, 0, 0, 0, 0, 0,\n",
              "       0, 0, 0, 0, 0], dtype=object)"
            ]
          },
          "metadata": {
            "tags": []
          },
          "execution_count": 9
        }
      ]
    },
    {
      "cell_type": "code",
      "metadata": {
        "colab": {
          "base_uri": "https://localhost:8080/",
          "height": 39
        },
        "id": "lK-TxVOwt4vy",
        "outputId": "24a5cf00-1065-4126-8ed3-c70fbb9e0a69"
      },
      "source": [
        "np.sum(resultados)*1.0"
      ],
      "execution_count": 10,
      "outputs": [
        {
          "output_type": "execute_result",
          "data": {
            "text/latex": "$\\displaystyle - 0.0401503887687038 \\pi^{2}$",
            "text/plain": [
              "-0.0401503887687038*pi**2"
            ]
          },
          "metadata": {
            "tags": []
          },
          "execution_count": 10
        }
      ]
    },
    {
      "cell_type": "code",
      "metadata": {
        "colab": {
          "base_uri": "https://localhost:8080/"
        },
        "id": "pkwIOx3f-up-",
        "outputId": "3c91acff-c1f0-4597-fd54-e788c2db4fea"
      },
      "source": [
        "-0.04*3.14**2"
      ],
      "execution_count": 11,
      "outputs": [
        {
          "output_type": "execute_result",
          "data": {
            "text/plain": [
              "-0.394384"
            ]
          },
          "metadata": {
            "tags": []
          },
          "execution_count": 11
        }
      ]
    },
    {
      "cell_type": "code",
      "metadata": {
        "colab": {
          "base_uri": "https://localhost:8080/",
          "height": 52
        },
        "id": "CvMxblYlF-ae",
        "outputId": "2650364c-437b-4a78-827a-d117e3a03318"
      },
      "source": [
        "E_nl(1, 1)"
      ],
      "execution_count": 12,
      "outputs": [
        {
          "output_type": "execute_result",
          "data": {
            "text/latex": "$\\displaystyle - \\frac{1}{2}$",
            "text/plain": [
              "-1/2"
            ]
          },
          "metadata": {
            "tags": []
          },
          "execution_count": 12
        }
      ]
    }
  ]
}