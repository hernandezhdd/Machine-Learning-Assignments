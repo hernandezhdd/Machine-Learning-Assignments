{
  "nbformat": 4,
  "nbformat_minor": 0,
  "metadata": {
    "colab": {
      "name": "Braket_Funciones_Hidrogeno.ipynb",
      "provenance": [],
      "authorship_tag": "ABX9TyNtd10hxJbsntqW9j8xyMqo",
      "include_colab_link": true
    },
    "kernelspec": {
      "name": "python3",
      "display_name": "Python 3"
    },
    "language_info": {
      "name": "python"
    }
  },
  "cells": [
    {
      "cell_type": "markdown",
      "metadata": {
        "id": "view-in-github",
        "colab_type": "text"
      },
      "source": [
        "<a href=\"https://colab.research.google.com/github/hernandezhdd/TrabajosMachineLearning/blob/master/Cuantica_III/Braket_Funciones_Hidrogeno.ipynb\" target=\"_parent\"><img src=\"https://colab.research.google.com/assets/colab-badge.svg\" alt=\"Open In Colab\"/></a>"
      ]
    },
    {
      "cell_type": "code",
      "metadata": {
        "id": "yFmke43RZlmm"
      },
      "source": [
        "from __future__ import division\n",
        "from sympy import *"
      ],
      "execution_count": null,
      "outputs": []
    },
    {
      "cell_type": "code",
      "metadata": {
        "id": "LZe-3w3fZ9sh",
        "colab": {
          "base_uri": "https://localhost:8080/"
        },
        "outputId": "db0a4666-807d-4398-9230-da09c95ac025"
      },
      "source": [
        "import numpy as np\n",
        "\n",
        "from sympy.physics.hydrogen import Psi_nlm\n",
        "from sympy.physics.quantum.dagger import Dagger\n",
        "from sympy import Symbol\n",
        "from sympy import integrate, conjugate, pi, oo, sin\n",
        "from sympy.physics.hydrogen import E_nl\n",
        "\n",
        "r=Symbol(\"r\", real=True, positive=True)\n",
        "phi=Symbol(\"phi\", real=True)\n",
        "theta=Symbol(\"theta\", real=True)\n",
        "\n",
        "Z=1 #Numero atomico\n",
        "nnn=5 #Cantidad de niveles a calcular\n",
        "qq=0\n",
        "\n",
        "#<1,0,0|z|n,l,m>\n",
        "\n",
        "resultados=[]\n",
        "for nn in range(2,nnn+1):\n",
        "  for ll in range(0,nn):\n",
        "    for mm in range(-ll,ll+1):\n",
        "\n",
        "      ket_100 = Psi_nlm(1,0,0,r,phi,theta,Z)\n",
        "      bra_nlm = conjugate( Psi_nlm(nn,ll,mm,r,phi,theta,Z) )\n",
        "      jacobi=r**2*sin(theta)\n",
        "      e = integrate(bra_nlm*r*cos(theta)*ket_100*jacobi, (r,0,oo), (phi,0,2*pi), (theta,0,pi))\n",
        "\n",
        "      f = e*conjugate(e) / ( E_nl(1, 1) - E_nl(nn, 1) ) \n",
        "\n",
        "      print('<1,0,0|z|'+str(nn)+','+str(ll)+','+str(mm)+'> =',f,'   |    E_nl =', E_nl(nn, 1))\n",
        "      resultados = np.append(resultados,f)\n",
        "      qq = qq+1"
      ],
      "execution_count": null,
      "outputs": [
        {
          "output_type": "stream",
          "text": [
            "<1,0,0|z|2,0,0> = 0    |    E_nl = -1/8\n",
            "<1,0,0|z|2,1,-1> = 0    |    E_nl = -1/8\n",
            "<1,0,0|z|2,1,0> = -262144/177147    |    E_nl = -1/8\n",
            "<1,0,0|z|2,1,1> = 0    |    E_nl = -1/8\n",
            "<1,0,0|z|3,0,0> = 0    |    E_nl = -1/18\n",
            "<1,0,0|z|3,1,-1> = 0    |    E_nl = -1/18\n",
            "<1,0,0|z|3,1,0> = -6561/32768    |    E_nl = -1/18\n",
            "<1,0,0|z|3,1,1> = 0    |    E_nl = -1/18\n",
            "<1,0,0|z|3,2,-2> = 0    |    E_nl = -1/18\n",
            "<1,0,0|z|3,2,-1> = 0    |    E_nl = -1/18\n",
            "<1,0,0|z|3,2,0> = 0    |    E_nl = -1/18\n",
            "<1,0,0|z|3,2,1> = 0    |    E_nl = -1/18\n",
            "<1,0,0|z|3,2,2> = 0    |    E_nl = -1/18\n",
            "<1,0,0|z|4,0,0> = 0    |    E_nl = -1/32\n",
            "<1,0,0|z|4,1,-1> = 0    |    E_nl = -1/32\n",
            "<1,0,0|z|4,1,0> = -402653184/6103515625    |    E_nl = -1/32\n",
            "<1,0,0|z|4,1,1> = 0    |    E_nl = -1/32\n",
            "<1,0,0|z|4,2,-2> = 0    |    E_nl = -1/32\n",
            "<1,0,0|z|4,2,-1> = 0    |    E_nl = -1/32\n",
            "<1,0,0|z|4,2,0> = 0    |    E_nl = -1/32\n",
            "<1,0,0|z|4,2,1> = 0    |    E_nl = -1/32\n",
            "<1,0,0|z|4,2,2> = 0    |    E_nl = -1/32\n",
            "<1,0,0|z|4,3,-3> = 0    |    E_nl = -1/32\n",
            "<1,0,0|z|4,3,-2> = 0    |    E_nl = -1/32\n",
            "<1,0,0|z|4,3,-1> = 0    |    E_nl = -1/32\n",
            "<1,0,0|z|4,3,0> = 0    |    E_nl = -1/32\n",
            "<1,0,0|z|4,3,1> = 0    |    E_nl = -1/32\n",
            "<1,0,0|z|4,3,2> = 0    |    E_nl = -1/32\n",
            "<1,0,0|z|4,3,3> = 0    |    E_nl = -1/32\n",
            "<1,0,0|z|5,0,0> = 0    |    E_nl = -1/50\n",
            "<1,0,0|z|5,1,-1> = 0    |    E_nl = -1/50\n",
            "<1,0,0|z|5,1,0> = -3906250/129140163    |    E_nl = -1/50\n",
            "<1,0,0|z|5,1,1> = 0    |    E_nl = -1/50\n",
            "<1,0,0|z|5,2,-2> = 0    |    E_nl = -1/50\n",
            "<1,0,0|z|5,2,-1> = 0    |    E_nl = -1/50\n",
            "<1,0,0|z|5,2,0> = 0    |    E_nl = -1/50\n",
            "<1,0,0|z|5,2,1> = 0    |    E_nl = -1/50\n",
            "<1,0,0|z|5,2,2> = 0    |    E_nl = -1/50\n",
            "<1,0,0|z|5,3,-3> = 0    |    E_nl = -1/50\n",
            "<1,0,0|z|5,3,-2> = 0    |    E_nl = -1/50\n",
            "<1,0,0|z|5,3,-1> = 0    |    E_nl = -1/50\n",
            "<1,0,0|z|5,3,0> = 0    |    E_nl = -1/50\n",
            "<1,0,0|z|5,3,1> = 0    |    E_nl = -1/50\n",
            "<1,0,0|z|5,3,2> = 0    |    E_nl = -1/50\n",
            "<1,0,0|z|5,3,3> = 0    |    E_nl = -1/50\n",
            "<1,0,0|z|5,4,-4> = 0    |    E_nl = -1/50\n",
            "<1,0,0|z|5,4,-3> = 0    |    E_nl = -1/50\n",
            "<1,0,0|z|5,4,-2> = 0    |    E_nl = -1/50\n",
            "<1,0,0|z|5,4,-1> = 0    |    E_nl = -1/50\n",
            "<1,0,0|z|5,4,0> = 0    |    E_nl = -1/50\n",
            "<1,0,0|z|5,4,1> = 0    |    E_nl = -1/50\n",
            "<1,0,0|z|5,4,2> = 0    |    E_nl = -1/50\n",
            "<1,0,0|z|5,4,3> = 0    |    E_nl = -1/50\n",
            "<1,0,0|z|5,4,4> = 0    |    E_nl = -1/50\n"
          ],
          "name": "stdout"
        }
      ]
    },
    {
      "cell_type": "code",
      "metadata": {
        "colab": {
          "base_uri": "https://localhost:8080/"
        },
        "id": "sYCvi1zCEhCl",
        "outputId": "87a7fd9b-c42e-4d82-e0f4-d2dd8d6391eb"
      },
      "source": [
        "qq"
      ],
      "execution_count": null,
      "outputs": [
        {
          "output_type": "execute_result",
          "data": {
            "text/plain": [
              "54"
            ]
          },
          "metadata": {
            "tags": []
          },
          "execution_count": 38
        }
      ]
    },
    {
      "cell_type": "code",
      "metadata": {
        "colab": {
          "base_uri": "https://localhost:8080/"
        },
        "id": "Lqy8ysqSw-nT",
        "outputId": "21466401-7832-49e6-e26a-1300f8d0ed1e"
      },
      "source": [
        "resultados"
      ],
      "execution_count": null,
      "outputs": [
        {
          "output_type": "execute_result",
          "data": {
            "text/plain": [
              "array([0.0, 0, 0, -262144/177147, 0, 0, 0, -6561/32768, 0, 0, 0, 0, 0, 0,\n",
              "       0, 0, -402653184/6103515625, 0, 0, 0, 0, 0, 0, 0, 0, 0, 0, 0, 0, 0,\n",
              "       0, 0, -3906250/129140163, 0, 0, 0, 0, 0, 0, 0, 0, 0, 0, 0, 0, 0, 0,\n",
              "       0, 0, 0, 0, 0, 0, 0, 0], dtype=object)"
            ]
          },
          "metadata": {
            "tags": []
          },
          "execution_count": 39
        }
      ]
    },
    {
      "cell_type": "code",
      "metadata": {
        "colab": {
          "base_uri": "https://localhost:8080/",
          "height": 483
        },
        "id": "CvMxblYlF-ae",
        "outputId": "39fa6b71-3c11-46de-a9ef-5eca440771c3"
      },
      "source": [
        "import matplotlib.pyplot as plt\n",
        "\n",
        "plt.figure(figsize=(14,8))\n",
        "plt.scatter(np.arange(len(resultados)), resultados)\n",
        "plt.show()"
      ],
      "execution_count": null,
      "outputs": [
        {
          "output_type": "display_data",
          "data": {
            "image/png": "[encoded data removed]",
            "text/plain": [
              "<Figure size 1008x576 with 1 Axes>"
            ]
          },
          "metadata": {
            "tags": [],
            "needs_background": "light"
          }
        }
      ]
    },
    {
      "cell_type": "code",
      "metadata": {
        "colab": {
          "base_uri": "https://localhost:8080/",
          "height": 37
        },
        "id": "lK-TxVOwt4vy",
        "outputId": "f0ba241a-7604-4230-dd49-1f759d1a3451"
      },
      "source": [
        "np.sum(resultados)*1.0"
      ],
      "execution_count": null,
      "outputs": [
        {
          "output_type": "execute_result",
          "data": {
            "text/latex": "$\\displaystyle -1.77625522265279$",
            "text/plain": [
              "-1.77625522265279"
            ]
          },
          "metadata": {
            "tags": []
          },
          "execution_count": 41
        }
      ]
    },
    {
      "cell_type": "code",
      "metadata": {
        "colab": {
          "base_uri": "https://localhost:8080/"
        },
        "id": "aPbLN-aSMH2-",
        "outputId": "0886ffb7-0ed0-4acf-b99c-b884e01c42eb"
      },
      "source": [
        "Z=1\n",
        "ket_200 = Psi_nlm(2,0,0,r,phi,theta,Z)\n",
        "bra_210 = conjugate( Psi_nlm(2,1,0,r,phi,theta,Z) )\n",
        "jacobi=r**2*sin(theta)\n",
        "e = integrate(bra_210*r*cos(theta)*ket_200*jacobi, (r,0,oo), (phi,0,2*pi), (theta,0,pi))\n",
        "print('<2,1,0|z|2,0,0> =', e)"
      ],
      "execution_count": null,
      "outputs": [
        {
          "output_type": "stream",
          "text": [
            "<2,1,0|z|2,0,0> = -3\n"
          ],
          "name": "stdout"
        }
      ]
    },
    {
      "cell_type": "code",
      "metadata": {
        "colab": {
          "base_uri": "https://localhost:8080/"
        },
        "id": "qkZ5WBiM7M1k",
        "outputId": "144a9de5-e002-4068-dac0-52e5d7720158"
      },
      "source": [
        "import numpy as np\n",
        "\n",
        "from sympy.physics.hydrogen import Psi_nlm\n",
        "from sympy.physics.quantum.dagger import Dagger\n",
        "from sympy import Symbol\n",
        "from sympy import integrate, conjugate, pi, oo, sin\n",
        "from sympy.physics.hydrogen import E_nl\n",
        "\n",
        "r=Symbol(\"r\", real=True, positive=True)\n",
        "phi=Symbol(\"phi\", real=True)\n",
        "theta=Symbol(\"theta\", real=True)\n",
        "\n",
        "Z=1 #Numero atomico\n",
        "nnn=25 #Cantidad de niveles a calcular\n",
        "qq=0\n",
        "\n",
        "#<1,0,0|z|n,l,m>\n",
        "\n",
        "resultados=[]\n",
        "for nn in range(2,nnn+1):\n",
        "  for ll in range(1,2):\n",
        "    for mm in range(0,1):\n",
        "\n",
        "      ket_100 = Psi_nlm(1,0,0,r,phi,theta,Z)\n",
        "      bra_nlm = conjugate( Psi_nlm(nn,1,mm,r,phi,theta,Z) )\n",
        "      jacobi=r**2*sin(theta)\n",
        "      e = integrate(bra_nlm*r*cos(theta)*ket_100*jacobi, (r,0,oo), (phi,0,2*pi), (theta,0,pi))\n",
        "\n",
        "      f = e*conjugate(e) / ( E_nl(1, 1) - E_nl(nn, 1) ) \n",
        "\n",
        "      print('<1,0,0|z|'+str(nn)+','+str(ll)+','+str(mm)+'> =',f,'   |    E_nl =', E_nl(nn, 1))\n",
        "      resultados = np.append(resultados,f)\n",
        "      qq = qq+1"
      ],
      "execution_count": null,
      "outputs": [
        {
          "output_type": "stream",
          "text": [
            "<1,0,0|z|2,1,0> = -262144/177147    |    E_nl = -1/8\n",
            "<1,0,0|z|3,1,0> = -6561/32768    |    E_nl = -1/18\n",
            "<1,0,0|z|4,1,0> = -402653184/6103515625    |    E_nl = -1/32\n",
            "<1,0,0|z|5,1,0> = -3906250/129140163    |    E_nl = -1/50\n",
            "<1,0,0|z|6,1,0> = -26873856000000/1628413597910449    |    E_nl = -1/72\n",
            "<1,0,0|z|7,1,0> = -88253338509/8796093022208    |    E_nl = -1/98\n",
            "<1,0,0|z|8,1,0> = -19411551302151307264/2954312706550833698643    |    E_nl = -1/128\n",
            "<1,0,0|z|9,1,0> = -270826551115776/59604644775390625    |    E_nl = -1/162\n",
            "<1,0,0|z|10,1,0> = -3904305912313344000000000/1191817653772720942460132761    |    E_nl = -1/200\n",
            "<1,0,0|z|11,1,0> = -359794264373779296875/147382613147155571933184    |    E_nl = -1/242\n",
            "<1,0,0|z|12,1,0> = -4896077160601914112051142197248/2619995643649944960380551432833049    |    E_nl = -1/288\n",
            "<1,0,0|z|13,1,0> = -1615488745218186961354752/1104427674243920646305299201    |    E_nl = -1/338\n",
            "<1,0,0|z|14,1,0> = -33976296099888807714609991982771863552/29122192120994270662777125835418701171875    |    E_nl = -1/392\n",
            "<1,0,0|z|15,1,0> = -2455008709156047353290939453125/2596148429267413814265248164610048    |    E_nl = -1/450\n",
            "<1,0,0|z|16,1,0> = -44422325046765158400000000000000000000000000/57155629504430816618802078994918975878812205409    |    E_nl = -1/512\n",
            "<1,0,0|z|17,1,0> = -286727891580988289409018071502290944/443426488243037769948249630619149892803    |    E_nl = -1/578\n",
            "<1,0,0|z|18,1,0> = -277376008025966413553380730119230543702663466057728/510095203738582479622335815880298130716653502143703561    |    E_nl = -1/648\n",
            "<1,0,0|z|19,1,0> = -369335842290397472008618793714032572135633/800000000000000000000000000000000000000000000    |    E_nl = -1/722\n",
            "<1,0,0|z|20,1,0> = -7873400697252840110803083874402469866192691789824000000000/19916307017920295962892876049279292062783858930865030380764763    |    E_nl = -1/800\n",
            "<1,0,0|z|21,1,0> = -33095001940875000000000000000000000000000000000/97017233784872162402203715694511008214034825609281    |    E_nl = -1/882\n",
            "<1,0,0|z|22,1,0> = -36164797156877219038865118638630006191550190583227649876300136448/122008981252869411022491112993141891091036959856659100591281395343249    |    E_nl = -1/968\n",
            "<1,0,0|z|23,1,0> = -815188286224542178394508347799577690019105298911900663/3145111424640742961662013471158390921894823939685476204544    |    E_nl = -1/1058\n",
            "<1,0,0|z|24,1,0> = -702455786554320806095592791567105330782808738106396091506197697170243584/3081487911019577364889564708135883709660962637144621112383902072906494140625    |    E_nl = -1/1152\n",
            "<1,0,0|z|25,1,0> = -48442178143512370807781249982185242361856000000000000000000/240340925483865739231684226863347488692170121179138216604681441    |    E_nl = -1/1250\n"
          ],
          "name": "stdout"
        }
      ]
    },
    {
      "cell_type": "code",
      "metadata": {
        "colab": {
          "base_uri": "https://localhost:8080/",
          "height": 483
        },
        "id": "tKd-0ONo72M7",
        "outputId": "0f5b5b27-9f78-4f0c-94f7-abb2c7bf9542"
      },
      "source": [
        "import matplotlib.pyplot as plt\n",
        "\n",
        "plt.figure(figsize=(14,8))\n",
        "plt.scatter(np.arange(len(resultados)), resultados)\n",
        "plt.grid()\n",
        "plt.show()"
      ],
      "execution_count": null,
      "outputs": [
        {
          "output_type": "display_data",
          "data": {
            "image/png": "[encoded data removed]",
            "text/plain": [
              "<Figure size 1008x576 with 1 Axes>"
            ]
          },
          "metadata": {
            "tags": [],
            "needs_background": "light"
          }
        }
      ]
    },
    {
      "cell_type": "code",
      "metadata": {
        "colab": {
          "base_uri": "https://localhost:8080/",
          "height": 483
        },
        "id": "UGfNQI80PBN4",
        "outputId": "d4235496-1ac4-498a-a3d0-7f77651ca1e1"
      },
      "source": [
        "import matplotlib.pyplot as plt\n",
        "\n",
        "plt.figure(figsize=(14,8))\n",
        "plt.scatter(np.arange(len(resultados)), -resultados)\n",
        "plt.grid()\n",
        "plt.yscale('log')\n",
        "plt.show()"
      ],
      "execution_count": null,
      "outputs": [
        {
          "output_type": "display_data",
          "data": {
            "image/png": "[encoded data removed]",
            "text/plain": [
              "<Figure size 1008x576 with 1 Axes>"
            ]
          },
          "metadata": {
            "tags": [],
            "needs_background": "light"
          }
        }
      ]
    },
    {
      "cell_type": "code",
      "metadata": {
        "colab": {
          "base_uri": "https://localhost:8080/",
          "height": 71
        },
        "id": "T2YdOSuv7-KY",
        "outputId": "3b6f1ffe-5a74-400b-cffa-1bf0508fef4e"
      },
      "source": [
        "np.sum(resultados)"
      ],
      "execution_count": null,
      "outputs": [
        {
          "output_type": "execute_result",
          "data": {
            "text/latex": "$\\displaystyle - \\frac{403148929292466315419338297139183799897220963575703762379991433533761761891111143995898247142731069785296880174497526449020198724122933879732744332163586587635852444498423771833896213313782068097866320577536546405758349633699197377296299720739928952748131777892252089638414716349219731441435617165519089609137909194623853118348809128955144601108719579524930829912437854985479729189918729573741896039832898804209515755710918744003247190848335056147803833291864848533959}{220394184148333470228865501794715367757183291552686812230138628106955107458234353309453257771924362637610037867454413753569368422397334165747479641634032846720314199881363616493767423285304071775674818972097256289974787603565249802012474878227855599282543209176448849133673793579594660871681884528205289980914287509288992071323953265087617406336037482952103896000000000000000000000000000000000000000000000000000000000000000000000000000000000000000000000000000000000000}$",
            "text/plain": [
              "-403148929292466315419338297139183799897220963575703762379991433533761761891111143995898247142731069785296880174497526449020198724122933879732744332163586587635852444498423771833896213313782068097866320577536546405758349633699197377296299720739928952748131777892252089638414716349219731441435617165519089609137909194623853118348809128955144601108719579524930829912437854985479729189918729573741896039832898804209515755710918744003247190848335056147803833291864848533959/220394184148333470228865501794715367757183291552686812230138628106955107458234353309453257771924362637610037867454413753569368422397334165747479641634032846720314199881363616493767423285304071775674818972097256289974787603565249802012474878227855599282543209176448849133673793579594660871681884528205289980914287509288992071323953265087617406336037482952103896000000000000000000000000000000000000000000000000000000000000000000000000000000000000000000000000000000000000"
            ]
          },
          "metadata": {
            "tags": []
          },
          "execution_count": 6
        }
      ]
    },
    {
      "cell_type": "code",
      "metadata": {
        "colab": {
          "base_uri": "https://localhost:8080/",
          "height": 37
        },
        "id": "SrkZx3738Zgi",
        "outputId": "6a17f925-d62e-476d-bf4e-cc84f565915d"
      },
      "source": [
        "np.sum(resultados)*1.0"
      ],
      "execution_count": null,
      "outputs": [
        {
          "output_type": "execute_result",
          "data": {
            "text/latex": "$\\displaystyle -1.82921763952325$",
            "text/plain": [
              "-1.82921763952325"
            ]
          },
          "metadata": {
            "tags": []
          },
          "execution_count": 7
        }
      ]
    },
    {
      "cell_type": "code",
      "metadata": {
        "colab": {
          "base_uri": "https://localhost:8080/",
          "height": 483
        },
        "id": "tSHL4OOoU4SQ",
        "outputId": "b2a0158c-c76c-40ad-a8fb-fb41d657f4de"
      },
      "source": [
        "import matplotlib.pyplot as plt\n",
        "\n",
        "plt.figure(figsize=(14,8))\n",
        "plt.scatter(np.arange(len(resultados)), np.cumsum(resultados))\n",
        "plt.grid()\n",
        "plt.show()"
      ],
      "execution_count": null,
      "outputs": [
        {
          "output_type": "display_data",
          "data": {
            "image/png": "[encoded data removed]",
            "text/plain": [
              "<Figure size 1008x576 with 1 Axes>"
            ]
          },
          "metadata": {
            "tags": [],
            "needs_background": "light"
          }
        }
      ]
    }
  ]
}